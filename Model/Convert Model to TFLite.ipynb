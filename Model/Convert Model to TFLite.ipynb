{
 "cells": [
  {
   "cell_type": "markdown",
   "metadata": {},
   "source": [
    "## Import Dependencies\n",
    "Import some libraries needed for this procedure."
   ]
  },
  {
   "cell_type": "code",
   "execution_count": null,
   "metadata": {},
   "outputs": [],
   "source": [
    "import tensorflow as tf\n",
    "from tensorflow import keras\n",
    "import os"
   ]
  },
  {
   "cell_type": "markdown",
   "metadata": {},
   "source": [
    "## Load the SavedModel for Inspection\n",
    "Load the save model using keras library, and pass the path to savedmodel (using os) as parameter."
   ]
  },
  {
   "cell_type": "code",
   "execution_count": null,
   "metadata": {},
   "outputs": [],
   "source": [
    "# Load using keras.\n",
    "new_converted = tf.keras.models.load_model(r'C:\\Users\\Asus\\Downloads\\Compressed\\saved models\\savedmodel200v2')"
   ]
  },
  {
   "cell_type": "code",
   "execution_count": null,
   "metadata": {},
   "outputs": [],
   "source": [
    "# Inspect if the model is correct.\n",
    "new.summary()"
   ]
  },
  {
   "cell_type": "markdown",
   "metadata": {},
   "source": [
    "## Convert the model\n",
    "After successfully identify and load the SavedModel file from directory, we now convert it to TFLite format."
   ]
  },
  {
   "cell_type": "code",
   "execution_count": null,
   "metadata": {},
   "outputs": [],
   "source": [
    "# First, see the current working directory we're working with.\n",
    "os.getcwd()"
   ]
  },
  {
   "cell_type": "code",
   "execution_count": null,
   "metadata": {},
   "outputs": [],
   "source": [
    "# (OPTIONAL) Change the directory to specified path for saving the model.\n",
    "os.chdir(r'C:\\Users\\Asus\\Downloads\\Compressed\\saved models\\TFLITE')\n",
    "# Re check current working directory.\n",
    "os.getcwd()"
   ]
  },
  {
   "cell_type": "code",
   "execution_count": null,
   "metadata": {},
   "outputs": [],
   "source": [
    "# Convert the saved model using TFLiteConverter.from_saved_model function.\n",
    "# Pass the path to savedmodel (using os) as parameter.\n",
    "converter = tf.lite.TFLiteConverter.from_saved_model(r'C:\\Users\\Asus\\Downloads\\Compressed\\saved models\\savedmodel200v2') # path to the SavedModel directory\n",
    "tflite_model = converter.convert()"
   ]
  },
  {
   "cell_type": "code",
   "execution_count": null,
   "metadata": {},
   "outputs": [],
   "source": [
    "# Change the 'modelv2' to any name as you like.\n",
    "# Because this is converting to TFLite, we want our extension to be '.tflite' format.\n",
    "# Note that this function writes a '.tflite' file to your current working directory.\n",
    "\n",
    "with open('modelv2.tflite', 'wb') as f:\n",
    "  f.write(tflite_model)"
   ]
  }
 ],
 "metadata": {
  "kernelspec": {
   "display_name": "Python 3",
   "language": "python",
   "name": "python3"
  },
  "language_info": {
   "codemirror_mode": {
    "name": "ipython",
    "version": 3
   },
   "file_extension": ".py",
   "mimetype": "text/x-python",
   "name": "python",
   "nbconvert_exporter": "python",
   "pygments_lexer": "ipython3",
   "version": "3.8.5"
  }
 },
 "nbformat": 4,
 "nbformat_minor": 4
}
